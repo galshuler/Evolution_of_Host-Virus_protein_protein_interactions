{
 "cells": [
  {
   "cell_type": "markdown",
   "id": "446b3f26",
   "metadata": {},
   "source": [
    "# Command line"
   ]
  },
  {
   "cell_type": "markdown",
   "id": "79a86c0e",
   "metadata": {},
   "source": [
    "## MAFFT"
   ]
  },
  {
   "cell_type": "markdown",
   "id": "37b1c7fe",
   "metadata": {},
   "source": [
    "mafft --anysymbol --maxiterate 1000 --localpair [input file]"
   ]
  },
  {
   "cell_type": "markdown",
   "id": "5ba41eec",
   "metadata": {},
   "source": [
    "## MUSCLE"
   ]
  },
  {
   "cell_type": "markdown",
   "id": "e8531d2d",
   "metadata": {},
   "source": [
    "muscle -in [input file] -out [output file] -phyi "
   ]
  },
  {
   "cell_type": "markdown",
   "id": "67751b76",
   "metadata": {},
   "source": [
    "## PhyML"
   ]
  },
  {
   "cell_type": "markdown",
   "id": "121c748c",
   "metadata": {},
   "source": [
    "PhyML -i [input file] -d aa -b 0 -s SPR"
   ]
  },
  {
   "cell_type": "markdown",
   "id": "0860528b",
   "metadata": {},
   "source": [
    "## Rate4site"
   ]
  },
  {
   "cell_type": "markdown",
   "id": "47a81e48",
   "metadata": {},
   "source": [
    "rate4site -s [MSA input file] -t [tree input file] -o [output norm rates] -y [output un-norm rates] -a [reference sequence] -ib -k 8 mj -bn \n",
    "\n"
   ]
  },
  {
   "cell_type": "markdown",
   "id": "4fa1ce08",
   "metadata": {},
   "source": [
    "## IUPred2A"
   ]
  },
  {
   "cell_type": "markdown",
   "id": "a276123c",
   "metadata": {},
   "source": [
    "python iupred2a.py [input file] long"
   ]
  },
  {
   "cell_type": "markdown",
   "id": "c18f9a0d",
   "metadata": {},
   "source": [
    "## CSU"
   ]
  },
  {
   "attachments": {},
   "cell_type": "markdown",
   "id": "a0faa09e",
   "metadata": {},
   "source": [
    "resc [PDB input file] [Residue numbe] [Chain]\n"
   ]
  },
  {
   "cell_type": "markdown",
   "id": "cabc2a3a",
   "metadata": {},
   "source": [
    "## Blast"
   ]
  },
  {
   "cell_type": "markdown",
   "id": "2b3a06e9",
   "metadata": {},
   "source": [
    "blastp -query [input query] -db [input database] -max_hsps 1 -out [output file] -outfmt '10 qseqid sseqid qstart qend qseq sstart send sseq evalue pident ppos' -num_threads 4"
   ]
  },
  {
   "cell_type": "code",
   "execution_count": null,
   "id": "f278cd38",
   "metadata": {},
   "outputs": [],
   "source": []
  }
 ],
 "metadata": {
  "kernelspec": {
   "display_name": "Python 3 (ipykernel)",
   "language": "python",
   "name": "python3"
  },
  "language_info": {
   "codemirror_mode": {
    "name": "ipython",
    "version": 3
   },
   "file_extension": ".py",
   "mimetype": "text/x-python",
   "name": "python",
   "nbconvert_exporter": "python",
   "pygments_lexer": "ipython3",
   "version": "3.8.12"
  },
  "toc": {
   "base_numbering": 1,
   "nav_menu": {},
   "number_sections": true,
   "sideBar": true,
   "skip_h1_title": false,
   "title_cell": "Table of Contents",
   "title_sidebar": "Contents",
   "toc_cell": false,
   "toc_position": {},
   "toc_section_display": true,
   "toc_window_display": true
  }
 },
 "nbformat": 4,
 "nbformat_minor": 5
}
