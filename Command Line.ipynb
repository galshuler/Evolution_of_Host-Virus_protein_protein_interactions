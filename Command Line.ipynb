{
 "cells": [
  {
   "cell_type": "markdown",
   "id": "446b3f26",
   "metadata": {},
   "source": [
    "# Command line"
   ]
  },
  {
   "cell_type": "markdown",
   "id": "ba964ffc",
   "metadata": {},
   "source": [
    "## MAFFT"
   ]
  },
  {
   "cell_type": "markdown",
   "id": "09858021",
   "metadata": {},
   "source": [
    "mafft --anysymbol --maxiterate 1000 --localpair [input file]"
   ]
  },
  {
   "cell_type": "markdown",
   "id": "61538e33",
   "metadata": {},
   "source": [
    "## MUSCLE"
   ]
  },
  {
   "cell_type": "markdown",
   "id": "c64da404",
   "metadata": {},
   "source": [
    "muscle -in [input file] -out [output file] -phyi "
   ]
  },
  {
   "cell_type": "markdown",
   "id": "04c60ef3",
   "metadata": {},
   "source": [
    "## PhyML"
   ]
  },
  {
   "cell_type": "markdown",
   "id": "08e7878a",
   "metadata": {},
   "source": [
    "PhyML -i [input file] -d aa -b 0 -s SPR"
   ]
  },
  {
   "cell_type": "markdown",
   "id": "eda22119",
   "metadata": {},
   "source": [
    "## Rate4site"
   ]
  },
  {
   "cell_type": "markdown",
   "id": "46663061",
   "metadata": {},
   "source": [
    "rate4site -s [MSA input file] -t [tree input file] -o [output norm rates] -y [output un-norm rates] -a [reference sequence] -ib -k 8 mj -bn \n",
    "\n"
   ]
  },
  {
   "cell_type": "markdown",
   "id": "3524a2ba",
   "metadata": {},
   "source": [
    "## IUPred2A"
   ]
  },
  {
   "cell_type": "markdown",
   "id": "54877cf1",
   "metadata": {},
   "source": [
    "python iupred2a.py [input file] long"
   ]
  },
  {
   "cell_type": "markdown",
   "id": "b45fa4fb",
   "metadata": {},
   "source": [
    "## CSU"
   ]
  },
  {
   "cell_type": "markdown",
   "id": "1357b233",
   "metadata": {},
   "source": [
    "resc [PDB input file] [Residue number] [Chain]\n"
   ]
  },
  {
   "cell_type": "markdown",
   "id": "ef804a87",
   "metadata": {},
   "source": [
    "## Blast"
   ]
  },
  {
   "cell_type": "markdown",
   "id": "5300c70e",
   "metadata": {},
   "source": [
    "blastp -query [input query] -db [input database] -max_hsps 1 -out [output file] -outfmt [parameters] -num_threads 4"
   ]
  }
 ],
 "metadata": {
  "kernelspec": {
   "display_name": "Python 3 (ipykernel)",
   "language": "python",
   "name": "python3"
  },
  "language_info": {
   "codemirror_mode": {
    "name": "ipython",
    "version": 3
   },
   "file_extension": ".py",
   "mimetype": "text/x-python",
   "name": "python",
   "nbconvert_exporter": "python",
   "pygments_lexer": "ipython3",
   "version": "3.8.12"
  },
  "toc": {
   "base_numbering": 1,
   "nav_menu": {},
   "number_sections": true,
   "sideBar": true,
   "skip_h1_title": false,
   "title_cell": "Table of Contents",
   "title_sidebar": "Contents",
   "toc_cell": false,
   "toc_position": {},
   "toc_section_display": true,
   "toc_window_display": true
  }
 },
 "nbformat": 4,
 "nbformat_minor": 5
}
