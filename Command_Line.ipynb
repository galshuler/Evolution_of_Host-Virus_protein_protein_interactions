{
 "cells": [
  {
   "cell_type": "markdown",
   "id": "446b3f26",
   "metadata": {},
   "source": [
    "# Command line"
   ]
  },
  {
   "cell_type": "markdown",
   "id": "204e9355",
   "metadata": {},
   "source": [
    "### Note\n",
    "\n",
    "- {} – indicate input or output file\n"
   ]
  },
  {
   "cell_type": "markdown",
   "id": "d2363138",
   "metadata": {},
   "source": [
    "## MAFFT"
   ]
  },
  {
   "cell_type": "markdown",
   "id": "2eb759f6",
   "metadata": {},
   "source": [
    "mafft --anysymbol --maxiterate 1000 --localpair {}"
   ]
  },
  {
   "cell_type": "markdown",
   "id": "28e60d28",
   "metadata": {},
   "source": [
    "## MUSCLE"
   ]
  },
  {
   "cell_type": "markdown",
   "id": "70cf3f14",
   "metadata": {},
   "source": [
    "muscle -in {} -out {} -phyi "
   ]
  },
  {
   "cell_type": "markdown",
   "id": "e54c33d3",
   "metadata": {},
   "source": [
    "## PhyML"
   ]
  },
  {
   "cell_type": "markdown",
   "id": "39cc6181",
   "metadata": {},
   "source": [
    "PhyML -i {} -d aa -b 0 -s SPR"
   ]
  },
  {
   "cell_type": "markdown",
   "id": "a7397ebd",
   "metadata": {},
   "source": [
    "## Rate4site"
   ]
  },
  {
   "cell_type": "markdown",
   "id": "23ff18fe",
   "metadata": {},
   "source": [
    "rate4site -s {} -t {} -o {} -y {} -a Human -ib -k 8 mj -bn \n",
    "\n",
    "- Human used as reference sequence "
   ]
  },
  {
   "cell_type": "markdown",
   "id": "2fbe24b9",
   "metadata": {},
   "source": [
    "## IUPred2A"
   ]
  },
  {
   "cell_type": "markdown",
   "id": "a112d887",
   "metadata": {},
   "source": [
    "python iupred2a.py {} long"
   ]
  },
  {
   "cell_type": "markdown",
   "id": "7fcd2b64",
   "metadata": {},
   "source": [
    "## CSU"
   ]
  },
  {
   "attachments": {},
   "cell_type": "markdown",
   "id": "c0de63b0",
   "metadata": {},
   "source": [
    "resc {1} {2} {3}\n",
    "- 1 - PDB\n",
    "- 2 - Residue number\n",
    "- 3 - Chain"
   ]
  },
  {
   "cell_type": "markdown",
   "id": "85991695",
   "metadata": {},
   "source": [
    "## Blast"
   ]
  },
  {
   "cell_type": "markdown",
   "id": "e4faff00",
   "metadata": {},
   "source": [
    "blastp -query {} -db {} -max_hsps 1 -out {} -outfmt '10 qseqid sseqid qstart qend qseq sstart send sseq evalue pident ppos' -num_threads 4"
   ]
  },
  {
   "cell_type": "code",
   "execution_count": 7,
   "id": "4e59d3bb",
   "metadata": {},
   "outputs": [],
   "source": []
  },
  {
   "cell_type": "code",
   "execution_count": null,
   "id": "d46b10e9",
   "metadata": {},
   "outputs": [],
   "source": []
  }
 ],
 "metadata": {
  "kernelspec": {
   "display_name": "Python 3 (ipykernel)",
   "language": "python",
   "name": "python3"
  },
  "language_info": {
   "codemirror_mode": {
    "name": "ipython",
    "version": 3
   },
   "file_extension": ".py",
   "mimetype": "text/x-python",
   "name": "python",
   "nbconvert_exporter": "python",
   "pygments_lexer": "ipython3",
   "version": "3.8.12"
  },
  "toc": {
   "base_numbering": 1,
   "nav_menu": {},
   "number_sections": true,
   "sideBar": true,
   "skip_h1_title": false,
   "title_cell": "Table of Contents",
   "title_sidebar": "Contents",
   "toc_cell": false,
   "toc_position": {},
   "toc_section_display": true,
   "toc_window_display": true
  }
 },
 "nbformat": 4,
 "nbformat_minor": 5
}
