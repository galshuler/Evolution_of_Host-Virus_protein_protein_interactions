{
 "cells": [
  {
   "cell_type": "markdown",
   "metadata": {},
   "source": [
    "# Command lines"
   ]
  },
  {
   "cell_type": "markdown",
   "metadata": {},
   "source": [
    "## MAFFT"
   ]
  },
  {
   "cell_type": "markdown",
   "metadata": {},
   "source": [
    "mafft --anysymbol --maxiterate 1000 --localpair [input file]"
   ]
  },
  {
   "cell_type": "markdown",
   "metadata": {},
   "source": [
    "## MUSCLE"
   ]
  },
  {
   "cell_type": "markdown",
   "metadata": {},
   "source": [
    "muscle -in [input file] -out [output file] -phyi "
   ]
  },
  {
   "cell_type": "markdown",
   "metadata": {},
   "source": [
    "## PhyML"
   ]
  },
  {
   "cell_type": "markdown",
   "metadata": {},
   "source": [
    "PhyML -i [input file] -d aa -b 0 -o tlr -s SPR"
   ]
  },
  {
   "cell_type": "markdown",
   "metadata": {},
   "source": [
    "## Rate4site"
   ]
  },
  {
   "cell_type": "markdown",
   "metadata": {},
   "source": [
    "rate4site -s [MSA input file] -t [tree input file] -o [output norm rates] -y [output un-norm rates] -a [reference sequence] -ib -k 8 mj -bn \n",
    "\n"
   ]
  },
  {
   "cell_type": "markdown",
   "metadata": {},
   "source": [
    "## IUPred2A"
   ]
  },
  {
   "cell_type": "markdown",
   "metadata": {},
   "source": [
    "python iupred2a.py [input file] long"
   ]
  },
  {
   "cell_type": "markdown",
   "metadata": {},
   "source": [
    "## CSU"
   ]
  },
  {
   "cell_type": "markdown",
   "metadata": {},
   "source": [
    "resc [PDB input file] [Residue number] [Chain]\n"
   ]
  },
  {
   "cell_type": "markdown",
   "metadata": {},
   "source": [
    "## GUIDANCE + PRANK"
   ]
  },
  {
   "cell_type": "markdown",
   "metadata": {},
   "source": [
    "guidance.pl --seqFile [input file] --program GUIDANCE2 - -seqType nuc --msaProgram PRANK --MSA Param \"\\-F \\-codon\""
   ]
  },
  {
   "cell_type": "markdown",
   "metadata": {},
   "source": [
    "## Selecton"
   ]
  },
  {
   "cell_type": "markdown",
   "metadata": {},
   "source": [
    "selecton -i [input file] -q [query sequence] -u [tree]"
   ]
  }
 ],
 "metadata": {
  "kernelspec": {
   "display_name": "Python 3",
   "language": "python",
   "name": "python3"
  },
  "language_info": {
   "codemirror_mode": {
    "name": "ipython",
    "version": 3
   },
   "file_extension": ".py",
   "mimetype": "text/x-python",
   "name": "python",
   "nbconvert_exporter": "python",
   "pygments_lexer": "ipython3",
   "version": "3.8.5"
  },
  "toc": {
   "base_numbering": 1,
   "nav_menu": {},
   "number_sections": false,
   "sideBar": true,
   "skip_h1_title": false,
   "title_cell": "Table of Contents",
   "title_sidebar": "Contents",
   "toc_cell": false,
   "toc_position": {},
   "toc_section_display": true,
   "toc_window_display": true
  }
 },
 "nbformat": 4,
 "nbformat_minor": 5
}
